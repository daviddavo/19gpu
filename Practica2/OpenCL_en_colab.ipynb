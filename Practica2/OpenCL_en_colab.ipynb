{
 "cells": [
  {
   "cell_type": "markdown",
   "metadata": {
    "colab_type": "text",
    "id": "jQU5l7eP6Ci6"
   },
   "source": [
    "# Ejemplo de compilación y uso de CUDA en el **google-colab**\n",
    "* En este cuaderno vamos a visualizar como poder usar la herramienta cloud de google, **google-colab** que permite el uso de GPUs de NVIDIA en el propio cloud\n",
    "* Se van a desarrollar conceptos tales como:\n",
    "    * Puesta a punto del entorno de compilación similar al utilizado en los laboratorios pero a través de este cuaderno\n",
    "    * Montaje del **google-drive** donde se van a alojar los códigos fuente y datos entrada\n",
    "    * Ejecución en una GPU en el cloud "
   ]
  },
  {
   "cell_type": "markdown",
   "metadata": {
    "colab_type": "text",
    "id": "V3u-uQDyxttA"
   },
   "source": [
    "## Librería de OpenCL instalada con CUDA\n",
    "* En la Práctica 1 ya vimos que estaba el compilador de NVIDIA CUDA v10.0 instalado\n",
    "* ¿Dónde?\n",
    "    * Por defecto la instalación de CUDA se realiza en /usr/local/cuda-10.0\n",
    "    * **OpenCL** estará en /usr/local/cuda-10.0/lib64/libOpenCL\n",
    "\n"
   ]
  },
  {
   "cell_type": "code",
   "execution_count": 0,
   "metadata": {
    "colab": {
     "base_uri": "https://localhost:8080/",
     "height": 89
    },
    "colab_type": "code",
    "id": "FPEnQKHBwTWv",
    "outputId": "bdaa56af-457f-4d8d-e05a-2fdac6753310"
   },
   "outputs": [
    {
     "name": "stdout",
     "output_type": "stream",
     "text": [
      "/usr/local/cuda-10.0/lib64/libOpenCL.so\n",
      "/usr/local/cuda-10.0/lib64/libOpenCL.so.1\n",
      "/usr/local/cuda-10.0/lib64/libOpenCL.so.1.1\n",
      "\n"
     ]
    }
   ],
   "source": [
    "!ls /usr/local/cuda-10.0/lib64/libOpenCL.so*\n",
    "\n",
    "\n",
    "\n",
    "\n"
   ]
  },
  {
   "cell_type": "markdown",
   "metadata": {
    "colab_type": "text",
    "id": "fn1SI6Fk6gxG"
   },
   "source": [
    "## Selección de la GPU\n",
    "* Para crear una instancia con GPU es importante seleccionar el entorno de adecuado\n",
    "* En el menú **Runtime**, apartado **Change Runtime Type**, seleccionar en el Hardware accelerator GPU\n",
    "    * NOTA: Si ha sido adecuadamente, al ejecutar el nvidia-smi debería de obtenerse la GPU seleccionada"
   ]
  },
  {
   "cell_type": "code",
   "execution_count": 0,
   "metadata": {
    "colab": {
     "base_uri": "https://localhost:8080/",
     "height": 323
    },
    "colab_type": "code",
    "id": "erulPzvA685f",
    "outputId": "6d71f573-619e-4410-b51f-3acf6ec708d4"
   },
   "outputs": [
    {
     "name": "stdout",
     "output_type": "stream",
     "text": [
      "Mon Mar 16 10:37:56 2020       \n",
      "+-----------------------------------------------------------------------------+\n",
      "| NVIDIA-SMI 440.59       Driver Version: 418.67       CUDA Version: 10.1     |\n",
      "|-------------------------------+----------------------+----------------------+\n",
      "| GPU  Name        Persistence-M| Bus-Id        Disp.A | Volatile Uncorr. ECC |\n",
      "| Fan  Temp  Perf  Pwr:Usage/Cap|         Memory-Usage | GPU-Util  Compute M. |\n",
      "|===============================+======================+======================|\n",
      "|   0  Tesla P100-PCIE...  Off  | 00000000:00:04.0 Off |                    0 |\n",
      "| N/A   37C    P0    27W / 250W |      0MiB / 16280MiB |      0%      Default |\n",
      "+-------------------------------+----------------------+----------------------+\n",
      "                                                                               \n",
      "+-----------------------------------------------------------------------------+\n",
      "| Processes:                                                       GPU Memory |\n",
      "|  GPU       PID   Type   Process name                             Usage      |\n",
      "|=============================================================================|\n",
      "|  No running processes found                                                 |\n",
      "+-----------------------------------------------------------------------------+\n"
     ]
    }
   ],
   "source": [
    "!nvidia-smi"
   ]
  },
  {
   "cell_type": "markdown",
   "metadata": {
    "colab_type": "text",
    "id": "D10GN4Nr-SEK"
   },
   "source": [
    "## Ejemplo 1\n",
    "* Vamos a ilustrar como poder usar el **google-colab** con el Ejemplo1\n",
    "* El ejemplo se encuentra disponible en el Campus Virtual"
   ]
  },
  {
   "cell_type": "markdown",
   "metadata": {
    "colab_type": "text",
    "id": "Fx2H95EQ7L3M"
   },
   "source": [
    "### Montaje del Drive\n",
    "* En el apartado **Files** de la ventana a la izquierda se puede montar la unidad *Drive* donde previamente podríamos haber descargado alguna práctica\n",
    "* Para comprobar el funcionamiento correcto, podemos cambiar al directorio elegido con el comando de python **os.chdir** y la ruta del directorio selecionado"
   ]
  },
  {
   "cell_type": "code",
   "execution_count": 11,
   "metadata": {
    "colab": {
     "base_uri": "https://localhost:8080/",
     "height": 35
    },
    "colab_type": "code",
    "id": "AXgIczNOmEbh",
    "outputId": "4b17cbf5-f9c1-4afe-a253-d2baf92e44a3"
   },
   "outputs": [
    {
     "name": "stdout",
     "output_type": "stream",
     "text": [
      "Drive already mounted at /content/drive; to attempt to forcibly remount, call drive.mount(\"/content/drive\", force_remount=True).\n"
     ]
    }
   ],
   "source": [
    "from google.colab import drive\n",
    "drive.mount('/content/drive')"
   ]
  },
  {
   "cell_type": "code",
   "execution_count": 0,
   "metadata": {
    "colab": {
     "base_uri": "https://localhost:8080/",
     "height": 53
    },
    "colab_type": "code",
    "id": "sZTWQNTAz9Ec",
    "outputId": "9c0f4127-30f7-4c78-a06d-b605a0afb7d1"
   },
   "outputs": [
    {
     "name": "stdout",
     "output_type": "stream",
     "text": [
      "Directory changed\n",
      "common.c  Makefile  README  vadd_c.c\n"
     ]
    }
   ],
   "source": [
    "import os\n",
    "os.chdir(r\"/content/drive/My Drive/Docencia/GPU/Practica2/Ejemplo1\") \n",
    "  \n",
    "print(\"Directory changed\")\n",
    "!ls"
   ]
  },
  {
   "cell_type": "markdown",
   "metadata": {
    "colab_type": "text",
    "id": "iSMDsg038EWU"
   },
   "source": [
    "### Compilación\n",
    "* Para compilar podemos ejecutar el comando **make** de forma análoga a como lo haríamos por consola"
   ]
  },
  {
   "cell_type": "code",
   "execution_count": 0,
   "metadata": {
    "colab": {
     "base_uri": "https://localhost:8080/",
     "height": 53
    },
    "colab_type": "code",
    "id": "9ze-AwfL8CVk",
    "outputId": "5758fcc9-5a26-4b68-87f1-5f29089a34d0"
   },
   "outputs": [
    {
     "name": "stdout",
     "output_type": "stream",
     "text": [
      "rm -f vadd\n",
      "cc vadd_c.c common.c -O3 -lm -D DEVICE=CL_DEVICE_TYPE_GPU -Wno-xxxx -Wno-deprecated-declarations -lOpenCL -fopenmp -o vadd\n"
     ]
    }
   ],
   "source": [
    "!make clean\n",
    "!make"
   ]
  },
  {
   "cell_type": "markdown",
   "metadata": {
    "colab_type": "text",
    "id": "c30xZpJf8aa5"
   },
   "source": [
    "### Ejecución\n",
    "* Podriamos ejecutar el ejecutable **vadd** con de forma similar al caso anterior"
   ]
  },
  {
   "cell_type": "code",
   "execution_count": 0,
   "metadata": {
    "colab": {
     "base_uri": "https://localhost:8080/",
     "height": 161
    },
    "colab_type": "code",
    "id": "ZTZdUqHK8oYy",
    "outputId": "44bc92f2-d35c-4d3c-de09-86f3d0e13a52"
   },
   "outputs": [
    {
     "name": "stdout",
     "output_type": "stream",
     "text": [
      "./exec length (by default length=1024)\n",
      " \n",
      " Device is  Tesla P100-PCIE-16GB  GPU from  NVIDIA Corporation  with a max of 56 compute units \n",
      "\n",
      "The kernel ran in 0.000036 seconds\n",
      "\n",
      "Execution time in milliseconds = 0.016 ms\n",
      "C = A+B:  1024 out of 1024 results were correct.\n"
     ]
    }
   ],
   "source": [
    "!./vadd"
   ]
  }
 ],
 "metadata": {
  "accelerator": "GPU",
  "colab": {
   "name": "OpenCL_en_colab",
   "provenance": [],
   "toc_visible": true
  },
  "kernelspec": {
   "display_name": "Python 3",
   "language": "python",
   "name": "python3"
  },
  "language_info": {
   "codemirror_mode": {
    "name": "ipython",
    "version": 3
   },
   "file_extension": ".py",
   "mimetype": "text/x-python",
   "name": "python",
   "nbconvert_exporter": "python",
   "pygments_lexer": "ipython3",
   "version": "3.7.3"
  }
 },
 "nbformat": 4,
 "nbformat_minor": 1
}
